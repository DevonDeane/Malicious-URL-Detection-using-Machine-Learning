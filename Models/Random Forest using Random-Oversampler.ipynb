{
 "cells": [
  {
   "cell_type": "markdown",
   "metadata": {},
   "source": [
    "## Random Forest using Random-Oversampler"
   ]
  },
  {
   "cell_type": "code",
   "execution_count": 188,
   "metadata": {},
   "outputs": [],
   "source": [
    "import pandas as pd  \n",
    "import numpy as np  \n",
    "from sklearn.model_selection import train_test_split  \n",
    "from sklearn.feature_selection import VarianceThreshold\n",
    "import matplotlib.pyplot as plt\n",
    "from sklearn.ensemble import RandomForestRegressor, RandomForestClassifier  \n",
    "from sklearn.metrics import roc_auc_score\n",
    "from sklearn.neural_network import MLPClassifier\n",
    "from sklearn import svm\n",
    "from sklearn.model_selection import GridSearchCV\n",
    "from sklearn import tree\n",
    "df = pd.read_csv (r'Normalized_New_Extracted_Data.csv')\n",
    "df['Label'] = df['Label'].replace('bad',1)\n",
    "df['Label'] = df['Label'].replace('good',0)"
   ]
  },
  {
   "cell_type": "code",
   "execution_count": 201,
   "metadata": {},
   "outputs": [],
   "source": [
    "def Classification_Report_Plotter(ytest,pred):\n",
    "    C_Report=classification_report(ytest, pred,output_dict=True)\n",
    "    C_Report_0=C_Report['0']\n",
    "    C_Report_1=C_Report['1']\n",
    "    del C_Report_1['support']\n",
    "    del C_Report_0['support']\n",
    "    cmat=confusion_matrix(ytest, pred)\n",
    "    accuracy=cmat.diagonal()/cmat.sum(axis=1)\n",
    "    print(\"Malicious Accuracy\",accuracy[1])\n",
    "    print(\"Good Accuracy\",accuracy[0])\n",
    "    C_Report_0['accuracy']=accuracy[0]\n",
    "    C_Report_1['accuracy']=accuracy[1]\n",
    "    df = pd.DataFrame([C_Report_0,C_Report_1],index=['Good','Malicious'],).transpose()\n",
    "    fig, ax= plt.subplots(1,1, figsize=(6,5))\n",
    "    df.plot.bar(ax=ax,title='Default Random Forest',fontsize =12,color=['g', 'r']).legend(bbox_to_anchor=(.7, 1))\n",
    "    ##ax.set_xlabel('Scores')\n",
    "    fig.tight_layout()"
   ]
  },
  {
   "cell_type": "code",
   "execution_count": 189,
   "metadata": {},
   "outputs": [],
   "source": [
    "df1=df\n",
    "Data=df1.drop(labels='URL', axis=1) "
   ]
  },
  {
   "cell_type": "code",
   "execution_count": 190,
   "metadata": {},
   "outputs": [
    {
     "data": {
      "text/plain": [
       "0    344821\n",
       "1     75643\n",
       "Name: Label, dtype: int64"
      ]
     },
     "execution_count": 190,
     "metadata": {},
     "output_type": "execute_result"
    }
   ],
   "source": [
    "df['Label'].value_counts()"
   ]
  },
  {
   "cell_type": "code",
   "execution_count": 191,
   "metadata": {},
   "outputs": [],
   "source": [
    "Data= Data.drop(labels='Label', axis=1) \n",
    "col_names=Data.columns\n"
   ]
  },
  {
   "cell_type": "code",
   "execution_count": 192,
   "metadata": {},
   "outputs": [],
   "source": [
    "mask = []\n",
    "for x in range(0, 63):\n",
    "    if(x < 17):\n",
    "        mask.append(False)\n",
    "    else:\n",
    "        mask.append(True)\n",
    "   "
   ]
  },
  {
   "cell_type": "code",
   "execution_count": 193,
   "metadata": {},
   "outputs": [],
   "source": [
    "from imblearn.over_sampling import RandomOverSampler\n",
    "train_x, test_x, train_y, test_y = train_test_split(Data,\n",
    "                                                        df['Label'],\n",
    "                                                        test_size =0.20,\n",
    "                                                        stratify = df.Label)\n",
    "\n",
    "\n",
    "ros = RandomOverSampler()\n",
    "X_res, y_res = ros.fit_resample(train_x, train_y)\n"
   ]
  },
  {
   "cell_type": "code",
   "execution_count": 194,
   "metadata": {},
   "outputs": [],
   "source": [
    "Train_Data=pd.DataFrame(X_res)\n",
    "Test_Data=pd.DataFrame(test_x)\n",
    "Train_Data.columns=col_names\n",
    "Test_Data.columns=col_names"
   ]
  },
  {
   "cell_type": "code",
   "execution_count": 196,
   "metadata": {},
   "outputs": [],
   "source": [
    "RF_Test=Test_Data.drop(labels=correlated_features, axis=1)\n",
    "RF_Train=Train_Data.drop(labels=correlated_features, axis=1)\n",
    "col_names=RF_Test.columns"
   ]
  },
  {
   "cell_type": "code",
   "execution_count": 220,
   "metadata": {},
   "outputs": [
    {
     "name": "stderr",
     "output_type": "stream",
     "text": [
      "C:\\Users\\Diego\\Anaconda3\\lib\\site-packages\\sklearn\\ensemble\\forest.py:246: FutureWarning: The default value of n_estimators will change from 10 in version 0.20 to 100 in 0.22.\n",
      "  \"10 in version 0.20 to 100 in 0.22.\", FutureWarning)\n"
     ]
    }
   ],
   "source": [
    "rf = RandomForestClassifier()\n",
    "rf.fit(RF_Train, y_res);\n",
    "y_pred = rf.predict(RF_Test)"
   ]
  },
  {
   "cell_type": "code",
   "execution_count": 221,
   "metadata": {},
   "outputs": [
    {
     "name": "stdout",
     "output_type": "stream",
     "text": [
      "0.9117762477257322\n"
     ]
    }
   ],
   "source": [
    "from sklearn.metrics import accuracy_score\n",
    "print(accuracy_score(test_y, y_pred))"
   ]
  },
  {
   "cell_type": "code",
   "execution_count": 222,
   "metadata": {},
   "outputs": [
    {
     "name": "stdout",
     "output_type": "stream",
     "text": [
      "              precision    recall  f1-score   support\n",
      "\n",
      "           0       0.95      0.94      0.95     68964\n",
      "           1       0.74      0.80      0.76     15129\n",
      "\n",
      "   micro avg       0.91      0.91      0.91     84093\n",
      "   macro avg       0.84      0.87      0.86     84093\n",
      "weighted avg       0.92      0.91      0.91     84093\n",
      "\n"
     ]
    }
   ],
   "source": [
    "from sklearn.metrics import classification_report, confusion_matrix\n",
    "print(classification_report(test_y, y_pred))"
   ]
  },
  {
   "cell_type": "code",
   "execution_count": 212,
   "metadata": {},
   "outputs": [
    {
     "name": "stdout",
     "output_type": "stream",
     "text": [
      "Confusion Matrix:\n",
      "[[64616  4348]\n",
      " [ 3127 12002]]\n"
     ]
    }
   ],
   "source": [
    "from sklearn.metrics import confusion_matrix\n",
    "print('Confusion Matrix:')\n",
    "print(confusion_matrix(test_y, y_pred))"
   ]
  },
  {
   "cell_type": "code",
   "execution_count": 213,
   "metadata": {
    "scrolled": false
   },
   "outputs": [
    {
     "name": "stdout",
     "output_type": "stream",
     "text": [
      "Malicious Accuracy 0.7933108599378677\n",
      "Good Accuracy 0.9369526129574851\n"
     ]
    },
    {
     "data": {
      "image/png": "[encoded data removed]",
      "text/plain": [
       "<Figure size 432x360 with 1 Axes>"
      ]
     },
     "metadata": {
      "needs_background": "light"
     },
     "output_type": "display_data"
    }
   ],
   "source": [
    "Classification_Report_Plotter(test_y, y_pred)"
   ]
  },
  {
   "cell_type": "code",
   "execution_count": 214,
   "metadata": {},
   "outputs": [
    {
     "name": "stdout",
     "output_type": "stream",
     "text": [
      "[[64616  4348]\n",
      " [ 3127 12002]]\n"
     ]
    },
    {
     "data": {
      "image/png": "[encoded data removed]",
      "text/plain": [
       "<Figure size 432x288 with 2 Axes>"
      ]
     },
     "metadata": {
      "needs_background": "light"
     },
     "output_type": "display_data"
    }
   ],
   "source": [
    "from sklearn.metrics import confusion_matrix\n",
    "\n",
    "labels = ['Good', 'Bad']\n",
    "cm = confusion_matrix(test_y, y_pred)\n",
    "print(cm)\n",
    "fig = plt.figure()\n",
    "ax = fig.add_subplot(111)\n",
    "cax = ax.matshow(cm)\n",
    "plt.title('Confusion matrix of the classifier')\n",
    "fig.colorbar(cax)\n",
    "ax.set_xticklabels([''] + labels)\n",
    "ax.set_yticklabels([''] + labels)\n",
    "plt.xlabel('Predicted')\n",
    "plt.ylabel('True')\n",
    "plt.show()"
   ]
  }
 ],
 "metadata": {
  "kernelspec": {
   "display_name": "Python 3",
   "language": "python",
   "name": "python3"
  },
  "language_info": {
   "codemirror_mode": {
    "name": "ipython",
    "version": 3
   },
   "file_extension": ".py",
   "mimetype": "text/x-python",
   "name": "python",
   "nbconvert_exporter": "python",
   "pygments_lexer": "ipython3",
   "version": "3.7.1"
  }
 },
 "nbformat": 4,
 "nbformat_minor": 2
}
