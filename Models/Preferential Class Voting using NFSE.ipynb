{
 "cells": [
  {
   "cell_type": "markdown",
   "metadata": {},
   "source": [
    "## Preferential Class Voting using NFSE"
   ]
  },
  {
   "cell_type": "code",
   "execution_count": 40,
   "metadata": {},
   "outputs": [],
   "source": [
    "import pandas as pd  \n",
    "import numpy as np  \n",
    "from sklearn.model_selection import train_test_split  \n",
    "from sklearn.feature_selection import VarianceThreshold\n",
    "import matplotlib.pyplot as plt\n",
    "from sklearn.ensemble import RandomForestRegressor, RandomForestClassifier  \n",
    "from sklearn.metrics import roc_auc_score\n",
    "from sklearn.neural_network import MLPClassifier\n",
    "from sklearn import svm\n",
    "from sklearn.model_selection import GridSearchCV\n",
    "from sklearn import tree\n",
    "from sklearn.metrics import confusion_matrix\n",
    "from imblearn.over_sampling import RandomOverSampler\n",
    "df = pd.read_csv (r'Normalized_New_Extracted_Data.csv')\n",
    "df['Label'] = df['Label'].replace('bad',1)\n",
    "df['Label'] = df['Label'].replace('good',0)"
   ]
  },
  {
   "cell_type": "code",
   "execution_count": 41,
   "metadata": {},
   "outputs": [],
   "source": [
    "def Classification_Report_Plotter(ytest,pred):\n",
    "    C_Report=classification_report(ytest, pred,output_dict=True)\n",
    "    C_Report_0=C_Report['0']\n",
    "    C_Report_1=C_Report['1']\n",
    "    del C_Report_1['support']\n",
    "    del C_Report_0['support']\n",
    "    cmat=confusion_matrix(ytest, pred)\n",
    "    accuracy=cmat.diagonal()/cmat.sum(axis=1)\n",
    "    print(\"Malicious Accuracy\",accuracy[1])\n",
    "    print(\"Good Accuracy\",accuracy[0])\n",
    "    C_Report_0['accuracy']=accuracy[0]\n",
    "    C_Report_1['accuracy']=accuracy[1]\n",
    "    df = pd.DataFrame([C_Report_0,C_Report_1],index=['Good','Malicious'],).transpose()\n",
    "    fig, ax= plt.subplots(1,1, figsize=(6,5))\n",
    "    df.plot.bar(ax=ax,title='Default Random Forest',fontsize =12,color=['g', 'r']).legend(bbox_to_anchor=(.7, 1))\n",
    "    ##ax.set_xlabel('Scores')\n",
    "    fig.tight_layout()"
   ]
  },
  {
   "cell_type": "code",
   "execution_count": 42,
   "metadata": {},
   "outputs": [],
   "source": [
    "df1=df\n",
    "Data=df1.drop(labels='URL', axis=1) "
   ]
  },
  {
   "cell_type": "code",
   "execution_count": 43,
   "metadata": {},
   "outputs": [],
   "source": [
    "Data= Data.drop(labels='Label', axis=1) \n",
    "col_names=Data.columns"
   ]
  },
  {
   "cell_type": "code",
   "execution_count": 44,
   "metadata": {},
   "outputs": [],
   "source": [
    "Feature_List=['URL Length', 'Query Length', 'Number of Tokens', 'Number of .',\n",
    "       'Number of -', 'Number of _', 'Number of =', 'Number of /',\n",
    "       'Number of ?', 'Number of ;', 'Number of Open Paranthesis',\n",
    "       'Number of Close Paranthesis', 'Number of %', 'Number of &',\n",
    "       'Number of @', 'Number of Digits', 'Entropy', 'Number of !',\n",
    "       'Number of ~', 'Number of +', 'Number of *', 'Number of #',\n",
    "       'Number of $', 'IP_Presence', 'secure', 'account', 'webscr', 'login',\n",
    "       'ebayisapi', 'signin', 'banking', 'confirm', 'blog', 'logon', 'signon',\n",
    "       'login.asp', 'login.php', 'login.htm', '.exe', '.zip', '.rar', '.jpg',\n",
    "       '.gif', 'viewer.php', 'link=', 'getImage.asp', 'plugins', 'paypal',\n",
    "       'order', 'dbsys.php', 'config.bin', 'download.php', '.js', 'payment',\n",
    "       'files', 'css', 'shopping', 'mail.php', '.jar', '.swf', '.cgi', '.php',\n",
    "       'abuse', 'admin', '.bin', 'www', 'personal', 'update', 'verification',\n",
    "       'server', 'client']"
   ]
  },
  {
   "cell_type": "code",
   "execution_count": 45,
   "metadata": {},
   "outputs": [],
   "source": [
    "def Class_Accuracy(test,pred,class_):\n",
    "    cmat=confusion_matrix(test_y, y_pred)\n",
    "    accuracy=cmat.diagonal()/cmat.sum(axis=1)\n",
    "    if class_=='good':\n",
    "        return accuracy[0]\n",
    "    elif class_=='bad':\n",
    "        return accuracy[1]"
   ]
  },
  {
   "cell_type": "code",
   "execution_count": 46,
   "metadata": {},
   "outputs": [],
   "source": [
    "def Class_Accuracy2(test,pred,class_):\n",
    "    cmat=confusion_matrix(test, pred)\n",
    "    accuracy=cmat.diagonal()/cmat.sum(axis=1)\n",
    "    if class_=='good':\n",
    "        return accuracy[0]\n",
    "    elif class_=='bad':\n",
    "        return accuracy[1]"
   ]
  },
  {
   "cell_type": "code",
   "execution_count": 47,
   "metadata": {},
   "outputs": [],
   "source": [
    "import random \n",
    "def Random_Feature_Selector (list_in, n):\n",
    "    random.shuffle(list_in)\n",
    "    listx=[list_in[i::n] for i in range(n)]\n",
    "    x= random.randint(1,n-1)\n",
    "    return listx[x]  "
   ]
  },
  {
   "cell_type": "code",
   "execution_count": 48,
   "metadata": {},
   "outputs": [],
   "source": [
    "## generate training data\n",
    "train_x, test_x, train_y, test_y = train_test_split(Data,df['Label'],test_size =0.2,stratify = df.Label)\n",
    "## Random Over Sampler\n",
    "ros = RandomOverSampler()\n",
    "X_res, y_res = ros.fit_resample(train_x, train_y)\n",
    "\n"
   ]
  },
  {
   "cell_type": "code",
   "execution_count": 49,
   "metadata": {},
   "outputs": [],
   "source": [
    "Extractor_Data=pd.concat([pd.DataFrame(train_x),pd.DataFrame(train_y)], axis=1)\n",
    "Extractor_Data\n",
    "Extractor_Data.columns=df.columns[1:]\n",
    "Extractor_DataX=Extractor_Data.drop(labels='Label', axis=1) \n"
   ]
  },
  {
   "cell_type": "code",
   "execution_count": 50,
   "metadata": {},
   "outputs": [],
   "source": [
    "Extractor_train_x, Extractor_test_x, Extractor_train_y, Extractor_test_y = train_test_split(Extractor_DataX,Extractor_Data['Label'],test_size =0.2,stratify = Extractor_Data.Label)\n",
    "ros2 = RandomOverSampler()\n",
    "X_resE, y_resE = ros2.fit_resample(Extractor_train_x, Extractor_train_y)\n",
    "## Conversion back to DataFrame\n",
    "Train_DataE=pd.DataFrame(X_resE)\n",
    "Test_DataE=pd.DataFrame(Extractor_test_x)\n",
    "Train_DataE.columns=col_names\n",
    "Test_DataE.columns=col_names"
   ]
  },
  {
   "cell_type": "code",
   "execution_count": 51,
   "metadata": {},
   "outputs": [
    {
     "name": "stdout",
     "output_type": "stream",
     "text": [
      "Accuracy Found: 0.8307031314550112\n",
      "Iteration#: 48  Combinations Found: 1\n",
      "Accuracy Found: 0.8202098653226473\n",
      "Iteration#: 71  Combinations Found: 2\n",
      "Accuracy Found: 0.8392960423035611\n",
      "Iteration#: 72  Combinations Found: 3\n",
      "[['Number of $', 'Number of %', 'getImage.asp', '.swf', 'files', 'Number of Close Paranthesis', 'Number of Tokens', 'URL Length', 'paypal', 'secure', 'Entropy', 'Number of ~', 'webscr', '.jar'], ['Entropy', 'files', '.swf', 'Number of .', 'config.bin', 'plugins', '.php', 'signon', '.jpg', '.zip', 'blog', 'secure', 'login.php', 'client'], ['account', 'Number of ?', 'mail.php', 'Number of .', 'blog', 'Number of ;', '.rar', 'Number of $', 'dbsys.php', 'Query Length', 'getImage.asp', 'URL Length', 'signon', 'Entropy']]\n"
     ]
    }
   ],
   "source": [
    "combinations=3\n",
    "factor=5\n",
    "desired_accuracy=.815\n",
    "i = 0\n",
    "counter=1\n",
    "List_bad=[]\n",
    "while i < combinations:\n",
    "    ## Create Random Filter\n",
    "    clf_Filter=Random_Feature_Selector(Feature_List, factor)\n",
    "    ## Filter Out Data\n",
    "    clf_Test=Test_DataE.drop(labels=clf_Filter, axis=1)### Interact with external variables\n",
    "    clf_Train=Train_DataE.drop(labels=clf_Filter, axis=1)### Interact with external variables\n",
    "    clf = RandomForestClassifier(n_estimators=10,n_jobs=-1)\n",
    "    clf.fit(clf_Train, y_resE);### Interact with external variables\n",
    "    y_pred = clf.predict(clf_Test)\n",
    "    accuracy=Class_Accuracy2(Extractor_test_y,y_pred, 'bad')\n",
    "    if(accuracy>=desired_accuracy):\n",
    "        List_bad.append(clf_Filter)\n",
    "        print(\"Accuracy Found:\", accuracy)\n",
    "        i += 1\n",
    "        print('Iteration#:',counter , ' Combinations Found:',i )\n",
    "    counter+= 1\n",
    "    accuracy = 0\n",
    "print(List_bad) "
   ]
  },
  {
   "cell_type": "code",
   "execution_count": 52,
   "metadata": {},
   "outputs": [
    {
     "name": "stdout",
     "output_type": "stream",
     "text": [
      "Accuracy Found: 0.935492641194809\n",
      "Iteration#: 33  Combinations Found: 1\n",
      "Accuracy Found: 0.9358188936417023\n",
      "Iteration#: 77  Combinations Found: 2\n",
      "Accuracy Found: 0.9356738925541942\n",
      "Iteration#: 95  Combinations Found: 3\n",
      "[['Number of ?', 'abuse', 'payment', 'signon', 'shopping', 'viewer.php', 'ebayisapi', 'getImage.asp', 'IP_Presence', 'login.asp', '.rar', 'link=', 'plugins', 'Number of $'], ['Number of $', 'mail.php', 'ebayisapi', 'Number of =', 'plugins', 'Number of *', '.rar', 'getImage.asp', 'Number of ?', 'Number of #', 'Number of &', 'logon', '.gif', 'signon'], ['login.php', 'verification', '.jar', 'paypal', '.jpg', 'Number of *', 'signin', '.swf', 'Number of #', 'webscr', 'Query Length', 'Number of @', 'blog', 'Number of ;']]\n"
     ]
    }
   ],
   "source": [
    "combinations=3\n",
    "factor=5\n",
    "desired_accuracy=.935\n",
    "i = 0\n",
    "counter=1\n",
    "List_good=[]\n",
    "while i < combinations:\n",
    "    ## Create Random Filter\n",
    "    clf_Filter=Random_Feature_Selector(Feature_List, factor)\n",
    "    ## Filter Out Data\n",
    "    clf_Test=Test_DataE.drop(labels=clf_Filter, axis=1)### Interact with external variables\n",
    "    clf_Train=Train_DataE.drop(labels=clf_Filter, axis=1)### Interact with external variables\n",
    "    clf = RandomForestClassifier(n_estimators=10,n_jobs=-1)\n",
    "    clf.fit(clf_Train, y_resE);### Interact with external variables\n",
    "\n",
    "    y_pred = clf.predict(clf_Test)\n",
    "    accuracy=Class_Accuracy2(Extractor_test_y,y_pred, 'good')\n",
    "    if(accuracy>=desired_accuracy):\n",
    "        List_good.append(clf_Filter)\n",
    "        print(\"Accuracy Found:\", accuracy)\n",
    "        i += 1\n",
    "        print('Iteration#:',counter , ' Combinations Found:',i )\n",
    "    counter+= 1\n",
    "    accuracy = 0\n",
    "print(List_good) "
   ]
  },
  {
   "cell_type": "code",
   "execution_count": 53,
   "metadata": {},
   "outputs": [],
   "source": [
    "F1_Filter=[]\n",
    "F2_Filter=[]\n",
    "F3_Filter=[]\n",
    "F4_Filter=[]\n",
    "F5_Filter=[]\n",
    "F6_Filter=[]\n",
    "x=0\n",
    "for i in List_bad: \n",
    "    if x==0:\n",
    "        F1_Filter=i\n",
    "    elif x==1:\n",
    "        F2_Filter=i\n",
    "    elif x==2:\n",
    "        F3_Filter=i\n",
    "    x=x+1\n",
    "    "
   ]
  },
  {
   "cell_type": "code",
   "execution_count": 54,
   "metadata": {},
   "outputs": [],
   "source": [
    "for i in List_good: \n",
    "    if x==0:\n",
    "        F4_Filter=i\n",
    "    elif x==1:\n",
    "        F5_Filter=i\n",
    "    elif x==2:\n",
    "        F6_Filter=i\n",
    "    x=x+1"
   ]
  },
  {
   "cell_type": "code",
   "execution_count": 55,
   "metadata": {},
   "outputs": [],
   "source": [
    "##Apply FIlters\n",
    "Train_Data=pd.DataFrame(X_res)\n",
    "Test_Data=pd.DataFrame(test_x)\n",
    "Train_Data.columns=col_names\n",
    "Test_Data.columns=col_names\n",
    "\n",
    "F1_Test=Test_Data.drop(labels=F1_Filter, axis=1)\n",
    "F1_Train=Train_Data.drop(labels=F1_Filter, axis=1)\n",
    "\n",
    "F2_Test=Test_Data.drop(labels=F2_Filter, axis=1)\n",
    "F2_Train=Train_Data.drop(labels=F2_Filter, axis=1)\n",
    "\n",
    "F3_Test=Test_Data.drop(labels=F3_Filter, axis=1)\n",
    "F3_Train=Train_Data.drop(labels=F3_Filter, axis=1)\n",
    "\n",
    "F4_Test=Test_Data.drop(labels=F4_Filter, axis=1)\n",
    "F4_Train=Train_Data.drop(labels=F4_Filter, axis=1)\n",
    "\n",
    "F5_Test=Test_Data.drop(labels=F5_Filter, axis=1)\n",
    "F5_Train=Train_Data.drop(labels=F5_Filter, axis=1)"
   ]
  },
  {
   "cell_type": "code",
   "execution_count": 56,
   "metadata": {},
   "outputs": [],
   "source": [
    "F1_clf = RandomForestClassifier(n_jobs=-1)"
   ]
  },
  {
   "cell_type": "code",
   "execution_count": 57,
   "metadata": {},
   "outputs": [],
   "source": [
    "F2_clf = RandomForestClassifier(n_jobs=-1)"
   ]
  },
  {
   "cell_type": "code",
   "execution_count": 58,
   "metadata": {},
   "outputs": [],
   "source": [
    "F3_clf = RandomForestClassifier(n_jobs=-1)"
   ]
  },
  {
   "cell_type": "code",
   "execution_count": 59,
   "metadata": {},
   "outputs": [],
   "source": [
    "F4_clf = RandomForestClassifier(n_jobs=-1)"
   ]
  },
  {
   "cell_type": "code",
   "execution_count": 60,
   "metadata": {},
   "outputs": [],
   "source": [
    "F5_clf = RandomForestClassifier(n_jobs=-1)"
   ]
  },
  {
   "cell_type": "code",
   "execution_count": 61,
   "metadata": {},
   "outputs": [],
   "source": [
    "X_train_list = [F1_Train, F2_Train,F3_Train,F4_Train,F5_Train]\n",
    "X_test_list = [F1_Test, F2_Test,F3_Test,F4_Test,F5_Test]\n",
    "classifiers = [('F1_clf',  F1_clf),('F2_clf', F2_clf),('F3_clf', F3_clf),('F4_clf', F4_clf),('F5_clf', F5_clf)]"
   ]
  },
  {
   "cell_type": "code",
   "execution_count": 62,
   "metadata": {},
   "outputs": [],
   "source": [
    "import numpy as np\n",
    "from sklearn.preprocessing import LabelEncoder\n",
    "\n",
    "def fit_multiple_estimators(classifiers, X_list, y, sample_weights = None):\n",
    "    # Fit all estimators with their respective feature arrays\n",
    "    estimators_ = [clf.fit(X, y) if sample_weights is None else clf.fit(X, y, sample_weights) for clf, X in zip([clf for _, clf in classifiers], X_list)]\n",
    "    return estimators_ \n",
    "\n",
    "\n",
    "def predict_from_multiple_estimator(estimators, X_list, weights = None):\n",
    "    # 'soft' voting with probabilities\n",
    "    val=False\n",
    "    pred1 = np.asarray([clf.predict_proba(X) for clf, X in zip(estimators, X_list)])\n",
    "    pred2 = np.average(pred1, axis=0, weights=weights)\n",
    "    pred = np.argmax(pred2, axis=1)\n",
    "    # Convert integer predictions to original labels:\n",
    "    return pred"
   ]
  },
  {
   "cell_type": "code",
   "execution_count": 63,
   "metadata": {
    "scrolled": true
   },
   "outputs": [
    {
     "name": "stderr",
     "output_type": "stream",
     "text": [
      "C:\\Users\\Diego\\Anaconda3\\lib\\site-packages\\sklearn\\ensemble\\forest.py:246: FutureWarning: The default value of n_estimators will change from 10 in version 0.20 to 100 in 0.22.\n",
      "  \"10 in version 0.20 to 100 in 0.22.\", FutureWarning)\n",
      "C:\\Users\\Diego\\Anaconda3\\lib\\site-packages\\sklearn\\ensemble\\forest.py:246: FutureWarning: The default value of n_estimators will change from 10 in version 0.20 to 100 in 0.22.\n",
      "  \"10 in version 0.20 to 100 in 0.22.\", FutureWarning)\n",
      "C:\\Users\\Diego\\Anaconda3\\lib\\site-packages\\sklearn\\ensemble\\forest.py:246: FutureWarning: The default value of n_estimators will change from 10 in version 0.20 to 100 in 0.22.\n",
      "  \"10 in version 0.20 to 100 in 0.22.\", FutureWarning)\n",
      "C:\\Users\\Diego\\Anaconda3\\lib\\site-packages\\sklearn\\ensemble\\forest.py:246: FutureWarning: The default value of n_estimators will change from 10 in version 0.20 to 100 in 0.22.\n",
      "  \"10 in version 0.20 to 100 in 0.22.\", FutureWarning)\n",
      "C:\\Users\\Diego\\Anaconda3\\lib\\site-packages\\sklearn\\ensemble\\forest.py:246: FutureWarning: The default value of n_estimators will change from 10 in version 0.20 to 100 in 0.22.\n",
      "  \"10 in version 0.20 to 100 in 0.22.\", FutureWarning)\n"
     ]
    }
   ],
   "source": [
    "fitted_estimators = fit_multiple_estimators(classifiers, X_train_list, y_res)\n",
    "y_pred = predict_from_multiple_estimator(fitted_estimators, X_test_list)\n"
   ]
  },
  {
   "cell_type": "code",
   "execution_count": 64,
   "metadata": {},
   "outputs": [
    {
     "name": "stdout",
     "output_type": "stream",
     "text": [
      "0.9120616460347473\n"
     ]
    }
   ],
   "source": [
    "from sklearn.metrics import accuracy_score\n",
    "print(accuracy_score(test_y, y_pred))"
   ]
  },
  {
   "cell_type": "code",
   "execution_count": 65,
   "metadata": {
    "scrolled": true
   },
   "outputs": [
    {
     "name": "stdout",
     "output_type": "stream",
     "text": [
      "              precision    recall  f1-score   support\n",
      "\n",
      "           0       0.96      0.93      0.95     68964\n",
      "           1       0.72      0.84      0.77     15129\n",
      "\n",
      "   micro avg       0.91      0.91      0.91     84093\n",
      "   macro avg       0.84      0.88      0.86     84093\n",
      "weighted avg       0.92      0.91      0.91     84093\n",
      "\n"
     ]
    }
   ],
   "source": [
    "from sklearn.metrics import classification_report, confusion_matrix\n",
    "print(classification_report(test_y, y_pred))"
   ]
  },
  {
   "cell_type": "code",
   "execution_count": 66,
   "metadata": {},
   "outputs": [
    {
     "name": "stdout",
     "output_type": "stream",
     "text": [
      "Confusion Matrix:\n",
      "[[64020  4944]\n",
      " [ 2451 12678]]\n"
     ]
    }
   ],
   "source": [
    "from sklearn.metrics import confusion_matrix\n",
    "print('Confusion Matrix:')\n",
    "print(confusion_matrix(test_y, y_pred))"
   ]
  },
  {
   "cell_type": "code",
   "execution_count": 67,
   "metadata": {},
   "outputs": [
    {
     "name": "stdout",
     "output_type": "stream",
     "text": [
      "Malicious Accuracy 0.8379932579813603\n",
      "Good Accuracy 0.9283104228293022\n"
     ]
    },
    {
     "data": {
      "image/png": "[encoded data removed]",
      "text/plain": [
       "<Figure size 432x360 with 1 Axes>"
      ]
     },
     "metadata": {
      "needs_background": "light"
     },
     "output_type": "display_data"
    }
   ],
   "source": [
    "Classification_Report_Plotter(test_y, y_pred)"
   ]
  },
  {
   "cell_type": "code",
   "execution_count": 68,
   "metadata": {},
   "outputs": [
    {
     "name": "stdout",
     "output_type": "stream",
     "text": [
      "[[64020  4944]\n",
      " [ 2451 12678]]\n"
     ]
    },
    {
     "data": {
      "image/png": "[encoded data removed]",
      "text/plain": [
       "<Figure size 432x288 with 2 Axes>"
      ]
     },
     "metadata": {
      "needs_background": "light"
     },
     "output_type": "display_data"
    }
   ],
   "source": [
    "from sklearn.metrics import confusion_matrix\n",
    "\n",
    "labels = ['Good', 'Bad']\n",
    "cm = confusion_matrix(test_y, y_pred)\n",
    "print(cm)\n",
    "fig = plt.figure()\n",
    "ax = fig.add_subplot(111)\n",
    "cax = ax.matshow(cm)\n",
    "plt.title('Confusion matrix of the classifier')\n",
    "fig.colorbar(cax)\n",
    "ax.set_xticklabels([''] + labels)\n",
    "ax.set_yticklabels([''] + labels)\n",
    "plt.xlabel('Predicted')\n",
    "plt.ylabel('True')\n",
    "plt.show()"
   ]
  },
  {
   "cell_type": "code",
   "execution_count": 69,
   "metadata": {},
   "outputs": [
    {
     "name": "stdout",
     "output_type": "stream",
     "text": [
      "              precision    recall  f1-score   support\n",
      "\n",
      "           0       0.96      0.89      0.92     68964\n",
      "           1       0.62      0.84      0.71     15129\n",
      "\n",
      "   micro avg       0.88      0.88      0.88     84093\n",
      "   macro avg       0.79      0.86      0.82     84093\n",
      "weighted avg       0.90      0.88      0.88     84093\n",
      "\n",
      "0.8765771229472132\n",
      "Malicious Accuracy 0.8353493291030472\n",
      "Good Accuracy 0.8856214836726408\n"
     ]
    },
    {
     "data": {
      "image/png": "[encoded data removed]",
      "text/plain": [
       "<Figure size 432x360 with 1 Axes>"
      ]
     },
     "metadata": {
      "needs_background": "light"
     },
     "output_type": "display_data"
    }
   ],
   "source": [
    "prediction_F1 = F1_clf.predict(F1_Test).tolist()\n",
    "print(classification_report(test_y, prediction_F1))\n",
    "print(accuracy_score(test_y, prediction_F1))\n",
    "Classification_Report_Plotter(test_y, prediction_F1)"
   ]
  },
  {
   "cell_type": "code",
   "execution_count": 70,
   "metadata": {},
   "outputs": [
    {
     "name": "stdout",
     "output_type": "stream",
     "text": [
      "              precision    recall  f1-score   support\n",
      "\n",
      "           0       0.96      0.86      0.91     68964\n",
      "           1       0.57      0.82      0.67     15129\n",
      "\n",
      "   micro avg       0.86      0.86      0.86     84093\n",
      "   macro avg       0.76      0.84      0.79     84093\n",
      "weighted avg       0.89      0.86      0.87     84093\n",
      "\n",
      "0.8555171060611466\n",
      "Malicious Accuracy 0.8224601758212704\n",
      "Good Accuracy 0.8627689809175801\n"
     ]
    },
    {
     "data": {
      "image/png": "[encoded data removed]",
      "text/plain": [
       "<Figure size 432x360 with 1 Axes>"
      ]
     },
     "metadata": {
      "needs_background": "light"
     },
     "output_type": "display_data"
    }
   ],
   "source": [
    "prediction_F2 = F2_clf.predict(F2_Test).tolist()\n",
    "print(classification_report(test_y, prediction_F2))\n",
    "print(accuracy_score(test_y, prediction_F2))\n",
    "Classification_Report_Plotter(test_y, prediction_F2)"
   ]
  },
  {
   "cell_type": "code",
   "execution_count": 71,
   "metadata": {
    "scrolled": true
   },
   "outputs": [
    {
     "name": "stdout",
     "output_type": "stream",
     "text": [
      "              precision    recall  f1-score   support\n",
      "\n",
      "           0       0.96      0.85      0.90     68964\n",
      "           1       0.56      0.84      0.67     15129\n",
      "\n",
      "   micro avg       0.85      0.85      0.85     84093\n",
      "   macro avg       0.76      0.85      0.79     84093\n",
      "weighted avg       0.89      0.85      0.86     84093\n",
      "\n",
      "0.851616662504608\n",
      "Malicious Accuracy 0.8420913477427457\n",
      "Good Accuracy 0.8537062815381938\n"
     ]
    },
    {
     "data": {
      "image/png": "[encoded data removed]",
      "text/plain": [
       "<Figure size 432x360 with 1 Axes>"
      ]
     },
     "metadata": {
      "needs_background": "light"
     },
     "output_type": "display_data"
    }
   ],
   "source": [
    "prediction_F3 = F3_clf.predict(F3_Test).tolist()\n",
    "print(classification_report(test_y, prediction_F3))\n",
    "print(accuracy_score(test_y, prediction_F3))\n",
    "Classification_Report_Plotter(test_y, prediction_F3)"
   ]
  },
  {
   "cell_type": "code",
   "execution_count": 72,
   "metadata": {},
   "outputs": [
    {
     "name": "stdout",
     "output_type": "stream",
     "text": [
      "              precision    recall  f1-score   support\n",
      "\n",
      "           0       0.96      0.94      0.95     68964\n",
      "           1       0.73      0.80      0.76     15129\n",
      "\n",
      "   micro avg       0.91      0.91      0.91     84093\n",
      "   macro avg       0.84      0.87      0.85     84093\n",
      "weighted avg       0.91      0.91      0.91     84093\n",
      "\n",
      "0.9112173427039112\n",
      "Malicious Accuracy 0.7999867803556084\n",
      "Good Accuracy 0.9356185836088394\n"
     ]
    },
    {
     "data": {
      "image/png": "[encoded data removed]",
      "text/plain": [
       "<Figure size 432x360 with 1 Axes>"
      ]
     },
     "metadata": {
      "needs_background": "light"
     },
     "output_type": "display_data"
    }
   ],
   "source": [
    "prediction_F4 = F4_clf.predict(F4_Test).tolist()\n",
    "print(classification_report(test_y, prediction_F4))\n",
    "print(accuracy_score(test_y, prediction_F4))\n",
    "Classification_Report_Plotter(test_y, prediction_F4)"
   ]
  },
  {
   "cell_type": "code",
   "execution_count": 73,
   "metadata": {},
   "outputs": [
    {
     "name": "stdout",
     "output_type": "stream",
     "text": [
      "              precision    recall  f1-score   support\n",
      "\n",
      "           0       0.96      0.94      0.95     68964\n",
      "           1       0.73      0.80      0.76     15129\n",
      "\n",
      "   micro avg       0.91      0.91      0.91     84093\n",
      "   macro avg       0.84      0.87      0.86     84093\n",
      "weighted avg       0.92      0.91      0.91     84093\n",
      "\n",
      "0.9113362586660008\n",
      "Malicious Accuracy 0.8021019234582589\n",
      "Good Accuracy 0.935299576590685\n"
     ]
    },
    {
     "data": {
      "image/png": "[encoded data removed]",
      "text/plain": [
       "<Figure size 432x360 with 1 Axes>"
      ]
     },
     "metadata": {
      "needs_background": "light"
     },
     "output_type": "display_data"
    }
   ],
   "source": [
    "prediction_F5 = F5_clf.predict(F5_Test).tolist()\n",
    "print(classification_report(test_y, prediction_F5))\n",
    "print(accuracy_score(test_y, prediction_F5))\n",
    "Classification_Report_Plotter(test_y, prediction_F5)"
   ]
  }
 ],
 "metadata": {
  "kernelspec": {
   "display_name": "Python 3",
   "language": "python",
   "name": "python3"
  },
  "language_info": {
   "codemirror_mode": {
    "name": "ipython",
    "version": 3
   },
   "file_extension": ".py",
   "mimetype": "text/x-python",
   "name": "python",
   "nbconvert_exporter": "python",
   "pygments_lexer": "ipython3",
   "version": "3.7.1"
  }
 },
 "nbformat": 4,
 "nbformat_minor": 2
}
