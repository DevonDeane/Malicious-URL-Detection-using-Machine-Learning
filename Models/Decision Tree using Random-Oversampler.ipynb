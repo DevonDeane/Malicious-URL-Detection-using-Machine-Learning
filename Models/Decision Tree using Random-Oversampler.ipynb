{
 "cells": [
  {
   "cell_type": "markdown",
   "metadata": {},
   "source": [
    "## Decision Tree using Random-Oversampler"
   ]
  },
  {
   "cell_type": "code",
   "execution_count": 1,
   "metadata": {},
   "outputs": [],
   "source": [
    "import pandas as pd  \n",
    "import numpy as np  \n",
    "from sklearn.model_selection import train_test_split  \n",
    "from sklearn.feature_selection import VarianceThreshold\n",
    "import matplotlib.pyplot as plt\n",
    "from sklearn.ensemble import RandomForestRegressor, RandomForestClassifier  \n",
    "from sklearn.metrics import roc_auc_score\n",
    "from sklearn.neural_network import MLPClassifier\n",
    "from sklearn import svm\n",
    "from sklearn.model_selection import GridSearchCV\n",
    "from sklearn import tree\n",
    "from sklearn.tree import DecisionTreeClassifier\n",
    "df = pd.read_csv (r'Normalized_New_Extracted_Data.csv')\n",
    "df['Label'] = df['Label'].replace('bad',1)\n",
    "df['Label'] = df['Label'].replace('good',0)"
   ]
  },
  {
   "cell_type": "code",
   "execution_count": 2,
   "metadata": {},
   "outputs": [],
   "source": [
    "def Classification_Report_Plotter(ytest,pred):\n",
    "    C_Report=classification_report(ytest, pred,output_dict=True)\n",
    "    C_Report_0=C_Report['0']\n",
    "    C_Report_1=C_Report['1']\n",
    "    del C_Report_1['support']\n",
    "    del C_Report_0['support']\n",
    "    cmat=confusion_matrix(ytest, pred)\n",
    "    accuracy=cmat.diagonal()/cmat.sum(axis=1)\n",
    "    print(\"Malicious Accuracy\",accuracy[1])\n",
    "    print(\"Good Accuracy\",accuracy[0])\n",
    "    C_Report_0['accuracy']=accuracy[0]\n",
    "    C_Report_1['accuracy']=accuracy[1]\n",
    "    df = pd.DataFrame([C_Report_0,C_Report_1],index=['Good','Malicious'],).transpose()\n",
    "    fig, ax= plt.subplots(1,1, figsize=(6,5))\n",
    "    df.plot.bar(ax=ax,title='Default Random Forest',fontsize =12,color=['g', 'r']).legend(bbox_to_anchor=(.7, 1))\n",
    "    ##ax.set_xlabel('Scores')\n",
    "    fig.tight_layout()"
   ]
  },
  {
   "cell_type": "code",
   "execution_count": 3,
   "metadata": {},
   "outputs": [],
   "source": [
    "df1=df\n",
    "Data=df1.drop(labels='URL', axis=1) "
   ]
  },
  {
   "cell_type": "code",
   "execution_count": 4,
   "metadata": {},
   "outputs": [
    {
     "data": {
      "text/plain": [
       "0    344821\n",
       "1     75643\n",
       "Name: Label, dtype: int64"
      ]
     },
     "execution_count": 4,
     "metadata": {},
     "output_type": "execute_result"
    }
   ],
   "source": [
    "df['Label'].value_counts()"
   ]
  },
  {
   "cell_type": "code",
   "execution_count": 5,
   "metadata": {},
   "outputs": [],
   "source": [
    "Data= Data.drop(labels='Label', axis=1) \n",
    "col_names=Data.columns\n"
   ]
  },
  {
   "cell_type": "code",
   "execution_count": 6,
   "metadata": {},
   "outputs": [],
   "source": [
    "mask = []\n",
    "for x in range(0, 63):\n",
    "    if(x < 17):\n",
    "        mask.append(False)\n",
    "    else:\n",
    "        mask.append(True)\n",
    "   "
   ]
  },
  {
   "cell_type": "code",
   "execution_count": 7,
   "metadata": {},
   "outputs": [],
   "source": [
    "from imblearn.over_sampling import RandomOverSampler\n",
    "train_x, test_x, train_y, test_y = train_test_split(Data,\n",
    "                                                        df['Label'],\n",
    "                                                        test_size =0.20,\n",
    "                                                        stratify = df.Label)\n",
    "\n",
    "\n",
    "ros = RandomOverSampler()\n",
    "X_res, y_res = ros.fit_resample(train_x, train_y)\n"
   ]
  },
  {
   "cell_type": "code",
   "execution_count": 10,
   "metadata": {},
   "outputs": [],
   "source": [
    "Train_Data=pd.DataFrame(X_res)\n",
    "Test_Data=pd.DataFrame(test_x)\n",
    "Train_Data.columns=col_names\n",
    "Test_Data.columns=col_names"
   ]
  },
  {
   "cell_type": "code",
   "execution_count": 11,
   "metadata": {},
   "outputs": [],
   "source": [
    "DT_Test=Test_Data\n",
    "DT_Train=Train_Data"
   ]
  },
  {
   "cell_type": "code",
   "execution_count": 12,
   "metadata": {},
   "outputs": [],
   "source": [
    "dt = DecisionTreeClassifier()\n",
    "dt.fit(DT_Train, y_res);\n",
    "y_pred = dt.predict(DT_Test)"
   ]
  },
  {
   "cell_type": "code",
   "execution_count": 13,
   "metadata": {},
   "outputs": [
    {
     "name": "stdout",
     "output_type": "stream",
     "text": [
      "0.900764629636236\n"
     ]
    }
   ],
   "source": [
    "from sklearn.metrics import accuracy_score\n",
    "print(accuracy_score(test_y, y_pred))"
   ]
  },
  {
   "cell_type": "code",
   "execution_count": 14,
   "metadata": {},
   "outputs": [
    {
     "name": "stdout",
     "output_type": "stream",
     "text": [
      "              precision    recall  f1-score   support\n",
      "\n",
      "           0       0.95      0.93      0.94     68964\n",
      "           1       0.70      0.77      0.74     15129\n",
      "\n",
      "   micro avg       0.90      0.90      0.90     84093\n",
      "   macro avg       0.83      0.85      0.84     84093\n",
      "weighted avg       0.90      0.90      0.90     84093\n",
      "\n"
     ]
    }
   ],
   "source": [
    "from sklearn.metrics import classification_report, confusion_matrix\n",
    "print(classification_report(test_y, y_pred))"
   ]
  },
  {
   "cell_type": "code",
   "execution_count": 15,
   "metadata": {},
   "outputs": [
    {
     "name": "stdout",
     "output_type": "stream",
     "text": [
      "Confusion Matrix:\n",
      "[[64080  4884]\n",
      " [ 3461 11668]]\n"
     ]
    }
   ],
   "source": [
    "from sklearn.metrics import confusion_matrix\n",
    "print('Confusion Matrix:')\n",
    "print(confusion_matrix(test_y, y_pred))"
   ]
  },
  {
   "cell_type": "code",
   "execution_count": 16,
   "metadata": {
    "scrolled": false
   },
   "outputs": [
    {
     "name": "stdout",
     "output_type": "stream",
     "text": [
      "Malicious Accuracy 0.7712340538039527\n",
      "Good Accuracy 0.9291804419697234\n"
     ]
    },
    {
     "data": {
      "image/png": "[encoded data removed]",
      "text/plain": [
       "<Figure size 432x360 with 1 Axes>"
      ]
     },
     "metadata": {
      "needs_background": "light"
     },
     "output_type": "display_data"
    }
   ],
   "source": [
    "Classification_Report_Plotter(test_y, y_pred)"
   ]
  },
  {
   "cell_type": "code",
   "execution_count": 17,
   "metadata": {},
   "outputs": [
    {
     "name": "stdout",
     "output_type": "stream",
     "text": [
      "[[64080  4884]\n",
      " [ 3461 11668]]\n"
     ]
    },
    {
     "data": {
      "image/png": "[encoded data removed]",
      "text/plain": [
       "<Figure size 432x288 with 2 Axes>"
      ]
     },
     "metadata": {
      "needs_background": "light"
     },
     "output_type": "display_data"
    }
   ],
   "source": [
    "from sklearn.metrics import confusion_matrix\n",
    "\n",
    "labels = ['Good', 'Bad']\n",
    "cm = confusion_matrix(test_y, y_pred)\n",
    "print(cm)\n",
    "fig = plt.figure()\n",
    "ax = fig.add_subplot(111)\n",
    "cax = ax.matshow(cm)\n",
    "plt.title('Confusion matrix of the classifier')\n",
    "fig.colorbar(cax)\n",
    "ax.set_xticklabels([''] + labels)\n",
    "ax.set_yticklabels([''] + labels)\n",
    "plt.xlabel('Predicted')\n",
    "plt.ylabel('True')\n",
    "plt.show()"
   ]
  }
 ],
 "metadata": {
  "kernelspec": {
   "display_name": "Python 3",
   "language": "python",
   "name": "python3"
  },
  "language_info": {
   "codemirror_mode": {
    "name": "ipython",
    "version": 3
   },
   "file_extension": ".py",
   "mimetype": "text/x-python",
   "name": "python",
   "nbconvert_exporter": "python",
   "pygments_lexer": "ipython3",
   "version": "3.7.1"
  }
 },
 "nbformat": 4,
 "nbformat_minor": 2
}
