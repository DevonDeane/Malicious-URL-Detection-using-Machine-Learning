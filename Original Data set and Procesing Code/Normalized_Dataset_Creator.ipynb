{
 "cells": [
  {
   "cell_type": "code",
   "execution_count": 1,
   "metadata": {},
   "outputs": [],
   "source": [
    "import pandas as pd  \n",
    "import numpy as np  \n",
    "from sklearn.preprocessing import Imputer\n",
    "from sklearn.preprocessing import StandardScaler\n",
    "df = pd.read_csv (r'New_Extracted_Data.csv')\n",
    "url = df['URL']\n",
    "label = df['Label']\n",
    "df=df.drop(['URL'], axis=1)\n",
    "df['Label'] = df['Label'].replace('bad',0)\n",
    "df['Label'] = df['Label'].replace('good',1)"
   ]
  },
  {
   "cell_type": "code",
   "execution_count": 2,
   "metadata": {},
   "outputs": [],
   "source": [
    "x = df.iloc[:, :-1].values\n",
    "x_numeric = x[:,[0,2,3,4,5,6,7,8,9,55,56,57,58,59,60,61,62,63,64,65,66,67,68]]\n",
    "x_binary = x[:,[1] + range(10, 55) + [69,70]]\n",
    "y = df.iloc[:, -1].values"
   ]
  },
  {
   "cell_type": "code",
   "execution_count": 3,
   "metadata": {},
   "outputs": [],
   "source": [
    "scaler = StandardScaler()\n",
    "x_numeric_std = scaler.fit_transform(x_numeric)\n",
    "normalizedData = pd.concat([url, pd.DataFrame(x_numeric_std), pd.DataFrame(x_binary), label], axis=1, ignore_index=True)\n",
    "column_names = [\"URL\", \"URL Length\", \"Query Length\", \"Number of Tokens\", \"Number of .\", \"Number of -\", \"Number of _\", \n",
    "                \"Number of =\", \"Number of /\", \"Number of ?\", \"Number of ;\", \"Number of Open Paranthesis\", \"Number of Close Paranthesis\", \n",
    "                \"Number of %\", \"Number of &\", \"Number of @\", \"Number of Digits\", \"Entropy\", 'Number of !', 'Number of ~', 'Number of +', 'Number of *', 'Number of #', 'Number of $',\n",
    "                \"IP_Presence\", \"secure\",  \"account\", \"webscr\", \"login\", \"ebayisapi\", \"signin\", \"banking\", \"confirm\", \"blog\", \"logon\", \"signon\", \"login.asp\", \"login.php\", \n",
    "                \"login.htm\",\".exe\", \".zip\", \".rar\", \".jpg\", \".gif\", \"viewer.php\", \"link=\", \"getImage.asp\", \"plugins\", \"paypal\", \"order\", \"dbsys.php\", \"config.bin\", \"download.php\", \".js\", \n",
    "                \"payment\", \"files\", \"css\", \"shopping\", \"mail.php\", \".jar\", \".swf\", \".cgi\", \".php\", \"abuse\", \"admin\", \".bin\", \"www\", \"personal\", \"update\", \"verification\", \"server\", \"client\", \"Label\"]"
   ]
  },
  {
   "cell_type": "code",
   "execution_count": 4,
   "metadata": {},
   "outputs": [],
   "source": [
    "normalizedData.columns = column_names\n",
    "normalizedData.to_csv(\"Normalized_New_Extracted_Data.csv\", encoding='utf-8', index=False)"
   ]
  }
 ],
 "metadata": {
  "kernelspec": {
   "display_name": "Python 2",
   "language": "python",
   "name": "python2"
  },
  "language_info": {
   "codemirror_mode": {
    "name": "ipython",
    "version": 2
   },
   "file_extension": ".py",
   "mimetype": "text/x-python",
   "name": "python",
   "nbconvert_exporter": "python",
   "pygments_lexer": "ipython2",
   "version": "2.7.15"
  }
 },
 "nbformat": 4,
 "nbformat_minor": 2
}
